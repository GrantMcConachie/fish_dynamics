{
 "cells": [
  {
   "cell_type": "code",
   "execution_count": 5,
   "metadata": {},
   "outputs": [],
   "source": [
    "\"\"\"\n",
    "Training script for the GNN\n",
    "\"\"\"\n",
    "\n",
    "import os\n",
    "import json\n",
    "import time\n",
    "import numpy as np\n",
    "import pickle as pkl\n",
    "from tqdm import tqdm\n",
    "import matplotlib.pyplot as plt\n",
    "\n",
    "import torch\n",
    "from torch_geometric.loader import DataLoader"
   ]
  },
  {
   "cell_type": "code",
   "execution_count": 13,
   "metadata": {},
   "outputs": [],
   "source": [
    "import sys\n",
    "from pathlib import Path\n",
    "\n",
    "# Get the absolute path to the parent directory\n",
    "project_path = Path('.').resolve()\n",
    "\n",
    "# Add it to the sys.path\n",
    "if str(project_path) not in sys.path:\n",
    "    sys.path.append(str(project_path))"
   ]
  },
  {
   "cell_type": "code",
   "execution_count": 16,
   "metadata": {},
   "outputs": [
    {
     "name": "stdout",
     "output_type": "stream",
     "text": [
      "/Users/briandepasquale/Documents/GitHub/fish_dynamics/notebook\n"
     ]
    }
   ],
   "source": [
    "import os\n",
    "print(os.getcwd())"
   ]
  },
  {
   "cell_type": "code",
   "execution_count": 17,
   "metadata": {},
   "outputs": [
    {
     "name": "stdout",
     "output_type": "stream",
     "text": [
      "/Users/briandepasquale/Documents/GitHub/fish_dynamics\n"
     ]
    }
   ],
   "source": [
    "os.chdir('/Users/briandepasquale/Documents/GitHub/fish_dynamics')\n",
    "print(os.getcwd())  # Verify the change"
   ]
  },
  {
   "cell_type": "code",
   "execution_count": 18,
   "metadata": {},
   "outputs": [],
   "source": [
    "from model.gnn import MPNN, EGNN\n",
    "import graph_utils.utils as gu"
   ]
  },
  {
   "cell_type": "code",
   "execution_count": 19,
   "metadata": {},
   "outputs": [],
   "source": [
    "def train(datasets, plot_loss=True, save_model=True, model_type='egnn'):\n",
    "    # load datasets of interest\n",
    "    data_list = []\n",
    "    for dataset in datasets:\n",
    "        data_list += pkl.load(open(dataset, 'rb'))\n",
    "\n",
    "    # split into train and test\n",
    "    train, val, test = gu.train_val_test(data_list)\n",
    "\n",
    "    # get model config\n",
    "    config = json.load(open('model/config.json', 'r'))\n",
    "\n",
    "    # init model\n",
    "    if model_type == 'mpnn':\n",
    "        model = MPNN(\n",
    "            noise_std=config['noise_std'],\n",
    "            mp_mlp_hidden_dim=config['mp_mlp_hidden_dim'],\n",
    "            update_mlp_hidden_dim=config['update_mlp_hidden_dim']\n",
    "        )\n",
    "\n",
    "    elif model_type == 'egnn':\n",
    "        model = EGNN(\n",
    "            num_fish=train[0].x.shape[0],\n",
    "            batch_size=config['batch_size'],\n",
    "            noise_std=config['noise_std'],\n",
    "            mlp_hidden_dim=config['mp_mlp_hidden_dim'],\n",
    "            mlp_depth=config['mlp_depth']\n",
    "        )\n",
    "\n",
    "    model.train()\n",
    "    loss_fn = torch.nn.MSELoss()\n",
    "    opt = torch.optim.Adam(model.parameters(), lr=config['adam_lr'])\n",
    "\n",
    "    # training loop\n",
    "    loss_vals = []\n",
    "    dataloader = DataLoader(\n",
    "        train,\n",
    "        batch_size=config['batch_size'],\n",
    "        shuffle=True\n",
    "    )\n",
    "    for i in tqdm(range(config['epochs'])):\n",
    "        epoch_loss = []\n",
    "        for g in dataloader:\n",
    "            opt.zero_grad()\n",
    "\n",
    "            # foraward pass\n",
    "            out = model(\n",
    "                x=g.x,\n",
    "                edge_index=g.edge_index,\n",
    "                edge_attr=g.edge_attr,\n",
    "                pos=g.pos\n",
    "            )\n",
    "\n",
    "            if model_type == 'mpnn':\n",
    "                loss = loss_fn(out, g.acc)\n",
    "\n",
    "            elif model_type == 'egnn':\n",
    "                loss = loss_fn(out, g.pos_next)\n",
    "\n",
    "            # backward pass\n",
    "            loss.backward()\n",
    "            opt.step()\n",
    "\n",
    "            # record keeping\n",
    "            loss_vals.append(loss.item())\n",
    "            epoch_loss.append(loss.item())\n",
    "\n",
    "        # loss per epoch\n",
    "        print(f'epoch {i} loss: {np.mean(epoch_loss)}')\n",
    "\n",
    "    # post processing model\n",
    "    if plot_loss:\n",
    "        gu.plot_loss(loss_vals)\n",
    "        gu.plot_loss(epoch_loss)\n",
    "        plt.show()\n",
    "\n",
    "    if save_model:\n",
    "        fp = 'results/saved_models'  # TODO: add option to specify model name\n",
    "        file = os.path.join(fp, f'tmp{round(time.time())}.pt')\n",
    "        torch.save(\n",
    "            {\n",
    "                'model': model.state_dict(),\n",
    "                'datasets': datasets,\n",
    "                'config': config,\n",
    "                'loss': loss_vals,\n",
    "                'model_type': model_type\n",
    "            },\n",
    "            file\n",
    "        )"
   ]
  },
  {
   "cell_type": "code",
   "execution_count": null,
   "metadata": {},
   "outputs": [
    {
     "name": "stderr",
     "output_type": "stream",
     "text": [
      "  1%|          | 1/100 [00:10<16:50, 10.21s/it]"
     ]
    },
    {
     "name": "stdout",
     "output_type": "stream",
     "text": [
      "epoch 0 loss: 1260.0213214162945\n"
     ]
    },
    {
     "name": "stderr",
     "output_type": "stream",
     "text": [
      "  2%|▏         | 2/100 [00:18<14:58,  9.17s/it]"
     ]
    },
    {
     "name": "stdout",
     "output_type": "stream",
     "text": [
      "epoch 1 loss: 0.600972334254622\n"
     ]
    }
   ],
   "source": [
    "\n",
    "datasets = ['./Processed Fish Data/data/processed/8fish/240816f4.pkl']\n",
    "train(datasets=datasets)\n"
   ]
  },
  {
   "cell_type": "code",
   "execution_count": null,
   "metadata": {},
   "outputs": [],
   "source": []
  }
 ],
 "metadata": {
  "kernelspec": {
   "display_name": ".venv",
   "language": "python",
   "name": "python3"
  },
  "language_info": {
   "codemirror_mode": {
    "name": "ipython",
    "version": 3
   },
   "file_extension": ".py",
   "mimetype": "text/x-python",
   "name": "python",
   "nbconvert_exporter": "python",
   "pygments_lexer": "ipython3",
   "version": "3.11.4"
  }
 },
 "nbformat": 4,
 "nbformat_minor": 2
}
